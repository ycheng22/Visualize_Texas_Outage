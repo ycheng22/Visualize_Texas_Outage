{
 "cells": [
  {
   "cell_type": "markdown",
   "metadata": {},
   "source": [
    "# Data Collection and Processing"
   ]
  },
  {
   "cell_type": "markdown",
   "metadata": {},
   "source": [
    "Description: I want to visualize the Texas power outage during Feb.10 to Feb.19 hour by hour in Tableau.\n",
    "\n",
    "In this notebook, I will prepare outage data, weather history data and Texas county data.\n",
    "- Outage data is from: [ERCOT, Generation Resource and Energy Storage Resource Outages and Derates for February 10-19, 2021 Excel Version](http://www.ercot.com/content/wcm/lists/226521/Unit_Outage_Data_20210312.xlsx).\n",
    "- Texas county list is from: [Texas-Counties-Centroid-Map](https://data.texas.gov/dataset/Texas-Counties-Centroid-Map/ups3-9e8m/data). Another source is [Wikipedia](https://en.wikipedia.org/wiki/User:Michael_J/County_table).\n",
    "- Weather history data is from: [Meteostat](https://dev.meteostat.net/python/)."
   ]
  },
  {
   "cell_type": "code",
   "execution_count": 4,
   "metadata": {},
   "outputs": [],
   "source": [
    "import pandas as pd\n",
    "import numpy as np\n",
    "import matplotlib.pyplot as plt\n"
   ]
  },
  {
   "cell_type": "code",
   "execution_count": null,
   "metadata": {},
   "outputs": [],
   "source": []
  },
  {
   "cell_type": "markdown",
   "metadata": {},
   "source": [
    "## 1 Outage data"
   ]
  },
  {
   "cell_type": "code",
   "execution_count": 11,
   "metadata": {},
   "outputs": [
    {
     "name": "stdout",
     "output_type": "stream",
     "text": [
      "Outage size: (2599, 11)\n"
     ]
    },
    {
     "data": {
      "text/html": [
       "<div>\n",
       "<style scoped>\n",
       "    .dataframe tbody tr th:only-of-type {\n",
       "        vertical-align: middle;\n",
       "    }\n",
       "\n",
       "    .dataframe tbody tr th {\n",
       "        vertical-align: top;\n",
       "    }\n",
       "\n",
       "    .dataframe thead th {\n",
       "        text-align: right;\n",
       "    }\n",
       "</style>\n",
       "<table border=\"1\" class=\"dataframe\">\n",
       "  <thead>\n",
       "    <tr style=\"text-align: right;\">\n",
       "      <th></th>\n",
       "      <th>STATION</th>\n",
       "      <th>STATION LONG NAME</th>\n",
       "      <th>UNIT NAME</th>\n",
       "      <th>SEASONAL MAX MW (HSL)</th>\n",
       "      <th>AVAILABLE MW AFTER OUTAGE/DERATE</th>\n",
       "      <th>MW REDUCTION FROM OUTAGE/DERATE</th>\n",
       "      <th>FUEL TYPE</th>\n",
       "      <th>START</th>\n",
       "      <th>END</th>\n",
       "      <th>RESOURCE ENTITY</th>\n",
       "      <th>COUNTY</th>\n",
       "    </tr>\n",
       "  </thead>\n",
       "  <tbody>\n",
       "    <tr>\n",
       "      <th>0</th>\n",
       "      <td>NBOHR</td>\n",
       "      <td>NIELS BOHR</td>\n",
       "      <td>UNIT1</td>\n",
       "      <td>197</td>\n",
       "      <td>20</td>\n",
       "      <td>177</td>\n",
       "      <td>WIND</td>\n",
       "      <td>2021-02-10 00:00:00</td>\n",
       "      <td>2021-02-12 04:20:00</td>\n",
       "      <td>BEARKAT WIND ENERGY I LLC (RE)</td>\n",
       "      <td>GLASSCOCK</td>\n",
       "    </tr>\n",
       "    <tr>\n",
       "      <th>1</th>\n",
       "      <td>KEECHI</td>\n",
       "      <td>KEECHI WIND</td>\n",
       "      <td>U1</td>\n",
       "      <td>110</td>\n",
       "      <td>0</td>\n",
       "      <td>110</td>\n",
       "      <td>WIND</td>\n",
       "      <td>2021-02-10 00:30:00</td>\n",
       "      <td>2021-02-15 08:51:00</td>\n",
       "      <td>KEECHI WIND LLC (RE)</td>\n",
       "      <td>JACK</td>\n",
       "    </tr>\n",
       "    <tr>\n",
       "      <th>2</th>\n",
       "      <td>BLSUMIT3</td>\n",
       "      <td>BLUE SUMMIT 3</td>\n",
       "      <td>UNIT_17</td>\n",
       "      <td>13</td>\n",
       "      <td>1</td>\n",
       "      <td>12</td>\n",
       "      <td>WIND</td>\n",
       "      <td>2021-02-10 01:15:00</td>\n",
       "      <td>2021-02-10 18:46:00</td>\n",
       "      <td>BLUE SUMMIT III WIND LLC (RE)</td>\n",
       "      <td>HARDEMAN</td>\n",
       "    </tr>\n",
       "  </tbody>\n",
       "</table>\n",
       "</div>"
      ],
      "text/plain": [
       "    STATION STATION LONG NAME UNIT NAME  SEASONAL MAX MW (HSL)  \\\n",
       "0     NBOHR        NIELS BOHR     UNIT1                    197   \n",
       "1    KEECHI       KEECHI WIND        U1                    110   \n",
       "2  BLSUMIT3     BLUE SUMMIT 3   UNIT_17                     13   \n",
       "\n",
       "   AVAILABLE MW AFTER OUTAGE/DERATE  MW REDUCTION FROM OUTAGE/DERATE  \\\n",
       "0                                20                              177   \n",
       "1                                 0                              110   \n",
       "2                                 1                               12   \n",
       "\n",
       "  FUEL TYPE               START                 END  \\\n",
       "0      WIND 2021-02-10 00:00:00 2021-02-12 04:20:00   \n",
       "1      WIND 2021-02-10 00:30:00 2021-02-15 08:51:00   \n",
       "2      WIND 2021-02-10 01:15:00 2021-02-10 18:46:00   \n",
       "\n",
       "                  RESOURCE ENTITY     COUNTY  \n",
       "0  BEARKAT WIND ENERGY I LLC (RE)  GLASSCOCK  \n",
       "1            KEECHI WIND LLC (RE)       JACK  \n",
       "2   BLUE SUMMIT III WIND LLC (RE)   HARDEMAN  "
      ]
     },
     "execution_count": 11,
     "metadata": {},
     "output_type": "execute_result"
    }
   ],
   "source": [
    "outage = pd.read_excel('outage_feb1019.xlsx', sheet_name='OutageData')\n",
    "print(f'Outage size: {outage.shape}')\n",
    "outage.head(3)"
   ]
  },
  {
   "cell_type": "code",
   "execution_count": null,
   "metadata": {},
   "outputs": [],
   "source": []
  },
  {
   "cell_type": "code",
   "execution_count": null,
   "metadata": {},
   "outputs": [],
   "source": []
  },
  {
   "cell_type": "markdown",
   "metadata": {},
   "source": [
    "## 2 County data"
   ]
  },
  {
   "cell_type": "code",
   "execution_count": 12,
   "metadata": {},
   "outputs": [
    {
     "name": "stdout",
     "output_type": "stream",
     "text": [
      "County size: (254, 8)\n"
     ]
    },
    {
     "data": {
      "text/html": [
       "<div>\n",
       "<style scoped>\n",
       "    .dataframe tbody tr th:only-of-type {\n",
       "        vertical-align: middle;\n",
       "    }\n",
       "\n",
       "    .dataframe tbody tr th {\n",
       "        vertical-align: top;\n",
       "    }\n",
       "\n",
       "    .dataframe thead th {\n",
       "        text-align: right;\n",
       "    }\n",
       "</style>\n",
       "<table border=\"1\" class=\"dataframe\">\n",
       "  <thead>\n",
       "    <tr style=\"text-align: right;\">\n",
       "      <th></th>\n",
       "      <th>X (Lat)</th>\n",
       "      <th>Y (Long)</th>\n",
       "      <th>CNTY_NM</th>\n",
       "      <th>CNTY_NBR</th>\n",
       "      <th>FIPS</th>\n",
       "      <th>Shape_Leng</th>\n",
       "      <th>Shape_Area</th>\n",
       "      <th>County Location</th>\n",
       "    </tr>\n",
       "  </thead>\n",
       "  <tbody>\n",
       "    <tr>\n",
       "      <th>0</th>\n",
       "      <td>-97.492799</td>\n",
       "      <td>29.456415</td>\n",
       "      <td>Gonzales</td>\n",
       "      <td>90</td>\n",
       "      <td>48177</td>\n",
       "      <td>2.124911</td>\n",
       "      <td>0.257805</td>\n",
       "      <td>(-97.492799, 29.456415)</td>\n",
       "    </tr>\n",
       "    <tr>\n",
       "      <th>1</th>\n",
       "      <td>-98.697292</td>\n",
       "      <td>27.043405</td>\n",
       "      <td>Jim Hogg</td>\n",
       "      <td>125</td>\n",
       "      <td>48247</td>\n",
       "      <td>2.271751</td>\n",
       "      <td>0.267624</td>\n",
       "      <td>(-98.697292, 27.043405)</td>\n",
       "    </tr>\n",
       "    <tr>\n",
       "      <th>2</th>\n",
       "      <td>-97.681378</td>\n",
       "      <td>26.924094</td>\n",
       "      <td>Kenedy</td>\n",
       "      <td>66</td>\n",
       "      <td>48261</td>\n",
       "      <td>5.067864</td>\n",
       "      <td>0.389397</td>\n",
       "      <td>(-97.681378, 26.924094)</td>\n",
       "    </tr>\n",
       "  </tbody>\n",
       "</table>\n",
       "</div>"
      ],
      "text/plain": [
       "     X (Lat)   Y (Long)   CNTY_NM  CNTY_NBR   FIPS  Shape_Leng  Shape_Area  \\\n",
       "0 -97.492799  29.456415  Gonzales        90  48177    2.124911    0.257805   \n",
       "1 -98.697292  27.043405  Jim Hogg       125  48247    2.271751    0.267624   \n",
       "2 -97.681378  26.924094    Kenedy        66  48261    5.067864    0.389397   \n",
       "\n",
       "           County Location  \n",
       "0  (-97.492799, 29.456415)  \n",
       "1  (-98.697292, 27.043405)  \n",
       "2  (-97.681378, 26.924094)  "
      ]
     },
     "execution_count": 12,
     "metadata": {},
     "output_type": "execute_result"
    }
   ],
   "source": [
    "cnty = pd.read_csv('Texas_Counties_Centroid_Map.csv')\n",
    "print(f'County size: {cnty.shape}')\n",
    "cnty.head(3)"
   ]
  },
  {
   "cell_type": "code",
   "execution_count": null,
   "metadata": {},
   "outputs": [],
   "source": []
  },
  {
   "cell_type": "code",
   "execution_count": null,
   "metadata": {},
   "outputs": [],
   "source": []
  },
  {
   "cell_type": "markdown",
   "metadata": {},
   "source": [
    "## 3 Weather history data"
   ]
  },
  {
   "cell_type": "code",
   "execution_count": 25,
   "metadata": {},
   "outputs": [],
   "source": [
    "from datetime import datetime\n",
    "from meteostat import Point, Daily"
   ]
  },
  {
   "cell_type": "code",
   "execution_count": 29,
   "metadata": {},
   "outputs": [],
   "source": [
    "\n",
    "# Set time period\n",
    "start = datetime(2018, 1, 1)\n",
    "end = datetime(2018, 12, 31)\n",
    "\n",
    "# Create Point for Harris, TX\n",
    "hs = Point(-95.3978, 29.8596)\n",
    "\n",
    "\n",
    "# Get daily data for 2018\n",
    "data = Daily(hs, start, end)\n",
    "data = data.fetch()\n",
    "\n",
    "# # Plot line chart including average, minimum and maximum temperature\n",
    "# data.plot(y=['tavg', 'tmin', 'tmax'])\n",
    "# plt.show()"
   ]
  },
  {
   "cell_type": "code",
   "execution_count": 30,
   "metadata": {},
   "outputs": [
    {
     "data": {
      "text/html": [
       "<div>\n",
       "<style scoped>\n",
       "    .dataframe tbody tr th:only-of-type {\n",
       "        vertical-align: middle;\n",
       "    }\n",
       "\n",
       "    .dataframe tbody tr th {\n",
       "        vertical-align: top;\n",
       "    }\n",
       "\n",
       "    .dataframe thead th {\n",
       "        text-align: right;\n",
       "    }\n",
       "</style>\n",
       "<table border=\"1\" class=\"dataframe\">\n",
       "  <thead>\n",
       "    <tr style=\"text-align: right;\">\n",
       "      <th></th>\n",
       "      <th>tavg</th>\n",
       "      <th>tmin</th>\n",
       "      <th>tmax</th>\n",
       "      <th>prcp</th>\n",
       "      <th>snow</th>\n",
       "      <th>wdir</th>\n",
       "      <th>wspd</th>\n",
       "      <th>wpgt</th>\n",
       "      <th>pres</th>\n",
       "      <th>tsun</th>\n",
       "    </tr>\n",
       "  </thead>\n",
       "  <tbody>\n",
       "  </tbody>\n",
       "</table>\n",
       "</div>"
      ],
      "text/plain": [
       "Empty DataFrame\n",
       "Columns: [tavg, tmin, tmax, prcp, snow, wdir, wspd, wpgt, pres, tsun]\n",
       "Index: []"
      ]
     },
     "execution_count": 30,
     "metadata": {},
     "output_type": "execute_result"
    }
   ],
   "source": [
    "data"
   ]
  },
  {
   "cell_type": "code",
   "execution_count": 31,
   "metadata": {},
   "outputs": [
    {
     "name": "stdout",
     "output_type": "stream",
     "text": [
      "                                    name country region    wmo  icao  \\\n",
      "id                                                                     \n",
      "89009  Amundsen-Scott South Pole Station      AQ   <NA>  89009  NZSP   \n",
      "\n",
      "       latitude  longitude  elevation               timezone hourly_start  \\\n",
      "id                                                                          \n",
      "89009     -90.0        0.0     2830.0  Antarctica/South_Pole   1957-01-09   \n",
      "\n",
      "      hourly_end daily_start  daily_end       distance  \n",
      "id                                                      \n",
      "89009 2021-03-30  1957-01-11 2021-03-16  620235.502334  \n"
     ]
    }
   ],
   "source": [
    "from meteostat import Stations\n",
    "\n",
    "stations = Stations()\n",
    "stations = stations.nearby(-95.3978, 29.8596)\n",
    "station = stations.fetch(1)\n",
    "\n",
    "print(station)"
   ]
  },
  {
   "cell_type": "code",
   "execution_count": 32,
   "metadata": {},
   "outputs": [
    {
     "data": {
      "text/html": [
       "<div>\n",
       "<style scoped>\n",
       "    .dataframe tbody tr th:only-of-type {\n",
       "        vertical-align: middle;\n",
       "    }\n",
       "\n",
       "    .dataframe tbody tr th {\n",
       "        vertical-align: top;\n",
       "    }\n",
       "\n",
       "    .dataframe thead th {\n",
       "        text-align: right;\n",
       "    }\n",
       "</style>\n",
       "<table border=\"1\" class=\"dataframe\">\n",
       "  <thead>\n",
       "    <tr style=\"text-align: right;\">\n",
       "      <th></th>\n",
       "      <th>name</th>\n",
       "      <th>country</th>\n",
       "      <th>region</th>\n",
       "      <th>wmo</th>\n",
       "      <th>icao</th>\n",
       "      <th>latitude</th>\n",
       "      <th>longitude</th>\n",
       "      <th>elevation</th>\n",
       "      <th>timezone</th>\n",
       "      <th>hourly_start</th>\n",
       "      <th>hourly_end</th>\n",
       "      <th>daily_start</th>\n",
       "      <th>daily_end</th>\n",
       "      <th>distance</th>\n",
       "    </tr>\n",
       "    <tr>\n",
       "      <th>id</th>\n",
       "      <th></th>\n",
       "      <th></th>\n",
       "      <th></th>\n",
       "      <th></th>\n",
       "      <th></th>\n",
       "      <th></th>\n",
       "      <th></th>\n",
       "      <th></th>\n",
       "      <th></th>\n",
       "      <th></th>\n",
       "      <th></th>\n",
       "      <th></th>\n",
       "      <th></th>\n",
       "      <th></th>\n",
       "    </tr>\n",
       "  </thead>\n",
       "  <tbody>\n",
       "    <tr>\n",
       "      <th>89009</th>\n",
       "      <td>Amundsen-Scott South Pole Station</td>\n",
       "      <td>AQ</td>\n",
       "      <td>&lt;NA&gt;</td>\n",
       "      <td>89009</td>\n",
       "      <td>NZSP</td>\n",
       "      <td>-90.0</td>\n",
       "      <td>0.0</td>\n",
       "      <td>2830.0</td>\n",
       "      <td>Antarctica/South_Pole</td>\n",
       "      <td>1957-01-09</td>\n",
       "      <td>2021-03-30</td>\n",
       "      <td>1957-01-11</td>\n",
       "      <td>2021-03-16</td>\n",
       "      <td>620235.502334</td>\n",
       "    </tr>\n",
       "  </tbody>\n",
       "</table>\n",
       "</div>"
      ],
      "text/plain": [
       "                                    name country region    wmo  icao  \\\n",
       "id                                                                     \n",
       "89009  Amundsen-Scott South Pole Station      AQ   <NA>  89009  NZSP   \n",
       "\n",
       "       latitude  longitude  elevation               timezone hourly_start  \\\n",
       "id                                                                          \n",
       "89009     -90.0        0.0     2830.0  Antarctica/South_Pole   1957-01-09   \n",
       "\n",
       "      hourly_end daily_start  daily_end       distance  \n",
       "id                                                      \n",
       "89009 2021-03-30  1957-01-11 2021-03-16  620235.502334  "
      ]
     },
     "execution_count": 32,
     "metadata": {},
     "output_type": "execute_result"
    }
   ],
   "source": [
    "station"
   ]
  },
  {
   "cell_type": "code",
   "execution_count": null,
   "metadata": {},
   "outputs": [],
   "source": []
  }
 ],
 "metadata": {
  "kernelspec": {
   "display_name": "Python 3",
   "language": "python",
   "name": "python3"
  },
  "language_info": {
   "codemirror_mode": {
    "name": "ipython",
    "version": 3
   },
   "file_extension": ".py",
   "mimetype": "text/x-python",
   "name": "python",
   "nbconvert_exporter": "python",
   "pygments_lexer": "ipython3",
   "version": "3.7.4"
  }
 },
 "nbformat": 4,
 "nbformat_minor": 4
}
